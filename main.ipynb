{
 "cells": [
  {
   "cell_type": "code",
   "execution_count": 68,
   "metadata": {},
   "outputs": [],
   "source": [
    "import time\n",
    "import random\n",
    "import pandas as pd\n",
    "import numpy as np\n",
    "from matplotlib import pyplot\n",
    "import matplotlib"
   ]
  },
  {
   "cell_type": "code",
   "execution_count": 13,
   "metadata": {},
   "outputs": [],
   "source": [
    "# We want to build a list of 17 digit integers and strings\n",
    "min_range_start = 1000000000000000\n",
    "max_range_start = (min_range_start * 10 - 1)\n"
   ]
  },
  {
   "cell_type": "code",
   "execution_count": 14,
   "metadata": {},
   "outputs": [],
   "source": [
    "num_list = []\n",
    "for i in range(100000):\n",
    "    num_list.append(random.randint(min_range_start, max_range_start))\n",
    "\n",
    "str_list = []\n",
    "for i in range(100000):\n",
    "    str_list.append(random.randint(min_range_start, max_range_start))"
   ]
  },
  {
   "cell_type": "code",
   "execution_count": 15,
   "metadata": {},
   "outputs": [],
   "source": [
    "num_time_list = []\n",
    "\n",
    "for i in range(100000):\n",
    "    x = random.randint(min_range_start,max_range_start)\n",
    "    t1 = time.time()\n",
    "    if( x in num_list):\n",
    "        t2 = time.time()\n",
    "        num_time_list.append(int((t2-t1)*1000*1000)) # micro-seconds\n",
    "    else:\n",
    "        t2 = time.time()\n",
    "        num_time_list.append(int((t2-t1)*1000*1000)) \n"
   ]
  },
  {
   "cell_type": "code",
   "execution_count": 16,
   "metadata": {},
   "outputs": [],
   "source": [
    "\n",
    "str_time_list = []\n",
    "\n",
    "for i in range(100000):\n",
    "    x = str(random.randint(min_range_start,max_range_start))\n",
    "    t1 = time.time()\n",
    "    if( x in str_list ):\n",
    "        t2 = time.time()\n",
    "        str_time_list.append(int((t2-t1)*1000*1000))\n",
    "    else:\n",
    "        t2 = time.time()\n",
    "        str_time_list.append(int((t2-t1)*1000*1000))"
   ]
  },
  {
   "cell_type": "code",
   "execution_count": 17,
   "metadata": {},
   "outputs": [],
   "source": [
    "df = pd.DataFrame( { \"int_time\" : num_time_list, \"str_time\" : str_time_list}, columns=[\"int_time\", \"str_time\"])"
   ]
  },
  {
   "cell_type": "code",
   "execution_count": 18,
   "metadata": {},
   "outputs": [
    {
     "data": {
      "text/html": [
       "<div>\n",
       "<style scoped>\n",
       "    .dataframe tbody tr th:only-of-type {\n",
       "        vertical-align: middle;\n",
       "    }\n",
       "\n",
       "    .dataframe tbody tr th {\n",
       "        vertical-align: top;\n",
       "    }\n",
       "\n",
       "    .dataframe thead th {\n",
       "        text-align: right;\n",
       "    }\n",
       "</style>\n",
       "<table border=\"1\" class=\"dataframe\">\n",
       "  <thead>\n",
       "    <tr style=\"text-align: right;\">\n",
       "      <th></th>\n",
       "      <th>int_time</th>\n",
       "      <th>str_time</th>\n",
       "    </tr>\n",
       "  </thead>\n",
       "  <tbody>\n",
       "    <tr>\n",
       "      <th>count</th>\n",
       "      <td>100000.000000</td>\n",
       "      <td>100000.000000</td>\n",
       "    </tr>\n",
       "    <tr>\n",
       "      <th>mean</th>\n",
       "      <td>571.120300</td>\n",
       "      <td>869.489630</td>\n",
       "    </tr>\n",
       "    <tr>\n",
       "      <th>std</th>\n",
       "      <td>30.657322</td>\n",
       "      <td>20.553657</td>\n",
       "    </tr>\n",
       "    <tr>\n",
       "      <th>min</th>\n",
       "      <td>553.000000</td>\n",
       "      <td>856.000000</td>\n",
       "    </tr>\n",
       "    <tr>\n",
       "      <th>25%</th>\n",
       "      <td>562.000000</td>\n",
       "      <td>861.000000</td>\n",
       "    </tr>\n",
       "    <tr>\n",
       "      <th>50%</th>\n",
       "      <td>565.000000</td>\n",
       "      <td>864.000000</td>\n",
       "    </tr>\n",
       "    <tr>\n",
       "      <th>75%</th>\n",
       "      <td>576.000000</td>\n",
       "      <td>873.000000</td>\n",
       "    </tr>\n",
       "    <tr>\n",
       "      <th>max</th>\n",
       "      <td>3978.000000</td>\n",
       "      <td>2962.000000</td>\n",
       "    </tr>\n",
       "  </tbody>\n",
       "</table>\n",
       "</div>"
      ],
      "text/plain": [
       "            int_time       str_time\n",
       "count  100000.000000  100000.000000\n",
       "mean      571.120300     869.489630\n",
       "std        30.657322      20.553657\n",
       "min       553.000000     856.000000\n",
       "25%       562.000000     861.000000\n",
       "50%       565.000000     864.000000\n",
       "75%       576.000000     873.000000\n",
       "max      3978.000000    2962.000000"
      ]
     },
     "execution_count": 18,
     "metadata": {},
     "output_type": "execute_result"
    }
   ],
   "source": [
    "df.describe()\n"
   ]
  },
  {
   "cell_type": "code",
   "execution_count": 20,
   "metadata": {},
   "outputs": [],
   "source": [
    "# load this after you've run the main.js (see the main.js file for instructions)\n",
    "\n",
    "from numpy import loadtxt\n",
    "file = open(\"int_timings.txt\",\"r\")\n",
    "js_int_timings = loadtxt(file,delimiter=\",\")"
   ]
  },
  {
   "cell_type": "code",
   "execution_count": 22,
   "metadata": {},
   "outputs": [],
   "source": [
    "from numpy import loadtxt\n",
    "file = open(\"str_timings.txt\",\"r\")\n",
    "str_int_timings = loadtxt(file,delimiter=\",\")"
   ]
  },
  {
   "cell_type": "code",
   "execution_count": 23,
   "metadata": {},
   "outputs": [],
   "source": [
    "df2 = pd.DataFrame( { \"js_int_time\" : js_int_timings, \"js_str_time\" : str_int_timings})"
   ]
  },
  {
   "cell_type": "code",
   "execution_count": 24,
   "metadata": {},
   "outputs": [
    {
     "data": {
      "text/html": [
       "<div>\n",
       "<style scoped>\n",
       "    .dataframe tbody tr th:only-of-type {\n",
       "        vertical-align: middle;\n",
       "    }\n",
       "\n",
       "    .dataframe tbody tr th {\n",
       "        vertical-align: top;\n",
       "    }\n",
       "\n",
       "    .dataframe thead th {\n",
       "        text-align: right;\n",
       "    }\n",
       "</style>\n",
       "<table border=\"1\" class=\"dataframe\">\n",
       "  <thead>\n",
       "    <tr style=\"text-align: right;\">\n",
       "      <th></th>\n",
       "      <th>js_int_time</th>\n",
       "      <th>js_str_time</th>\n",
       "    </tr>\n",
       "  </thead>\n",
       "  <tbody>\n",
       "    <tr>\n",
       "      <th>count</th>\n",
       "      <td>100000.000000</td>\n",
       "      <td>100000.000000</td>\n",
       "    </tr>\n",
       "    <tr>\n",
       "      <th>mean</th>\n",
       "      <td>64.815700</td>\n",
       "      <td>408.222700</td>\n",
       "    </tr>\n",
       "    <tr>\n",
       "      <th>std</th>\n",
       "      <td>5.132066</td>\n",
       "      <td>42.584335</td>\n",
       "    </tr>\n",
       "    <tr>\n",
       "      <th>min</th>\n",
       "      <td>62.000000</td>\n",
       "      <td>312.000000</td>\n",
       "    </tr>\n",
       "    <tr>\n",
       "      <th>25%</th>\n",
       "      <td>64.000000</td>\n",
       "      <td>388.000000</td>\n",
       "    </tr>\n",
       "    <tr>\n",
       "      <th>50%</th>\n",
       "      <td>64.000000</td>\n",
       "      <td>391.000000</td>\n",
       "    </tr>\n",
       "    <tr>\n",
       "      <th>75%</th>\n",
       "      <td>64.000000</td>\n",
       "      <td>409.000000</td>\n",
       "    </tr>\n",
       "    <tr>\n",
       "      <th>max</th>\n",
       "      <td>1210.000000</td>\n",
       "      <td>2737.000000</td>\n",
       "    </tr>\n",
       "  </tbody>\n",
       "</table>\n",
       "</div>"
      ],
      "text/plain": [
       "         js_int_time    js_str_time\n",
       "count  100000.000000  100000.000000\n",
       "mean       64.815700     408.222700\n",
       "std         5.132066      42.584335\n",
       "min        62.000000     312.000000\n",
       "25%        64.000000     388.000000\n",
       "50%        64.000000     391.000000\n",
       "75%        64.000000     409.000000\n",
       "max      1210.000000    2737.000000"
      ]
     },
     "execution_count": 24,
     "metadata": {},
     "output_type": "execute_result"
    }
   ],
   "source": [
    "df2.describe()"
   ]
  },
  {
   "cell_type": "code",
   "execution_count": 25,
   "metadata": {},
   "outputs": [],
   "source": [
    "cf = pd.concat([df,df2], axis=1)"
   ]
  },
  {
   "cell_type": "code",
   "execution_count": 29,
   "metadata": {},
   "outputs": [
    {
     "data": {
      "text/html": [
       "<div>\n",
       "<style scoped>\n",
       "    .dataframe tbody tr th:only-of-type {\n",
       "        vertical-align: middle;\n",
       "    }\n",
       "\n",
       "    .dataframe tbody tr th {\n",
       "        vertical-align: top;\n",
       "    }\n",
       "\n",
       "    .dataframe thead th {\n",
       "        text-align: right;\n",
       "    }\n",
       "</style>\n",
       "<table border=\"1\" class=\"dataframe\">\n",
       "  <thead>\n",
       "    <tr style=\"text-align: right;\">\n",
       "      <th></th>\n",
       "      <th>int_time</th>\n",
       "      <th>str_time</th>\n",
       "      <th>js_int_time</th>\n",
       "      <th>js_str_time</th>\n",
       "    </tr>\n",
       "  </thead>\n",
       "  <tbody>\n",
       "    <tr>\n",
       "      <th>count</th>\n",
       "      <td>100000.000000</td>\n",
       "      <td>100000.000000</td>\n",
       "      <td>100000.000000</td>\n",
       "      <td>100000.000000</td>\n",
       "    </tr>\n",
       "    <tr>\n",
       "      <th>mean</th>\n",
       "      <td>571.120300</td>\n",
       "      <td>869.489630</td>\n",
       "      <td>64.815700</td>\n",
       "      <td>408.222700</td>\n",
       "    </tr>\n",
       "    <tr>\n",
       "      <th>std</th>\n",
       "      <td>30.657322</td>\n",
       "      <td>20.553657</td>\n",
       "      <td>5.132066</td>\n",
       "      <td>42.584335</td>\n",
       "    </tr>\n",
       "    <tr>\n",
       "      <th>min</th>\n",
       "      <td>553.000000</td>\n",
       "      <td>856.000000</td>\n",
       "      <td>62.000000</td>\n",
       "      <td>312.000000</td>\n",
       "    </tr>\n",
       "    <tr>\n",
       "      <th>25%</th>\n",
       "      <td>562.000000</td>\n",
       "      <td>861.000000</td>\n",
       "      <td>64.000000</td>\n",
       "      <td>388.000000</td>\n",
       "    </tr>\n",
       "    <tr>\n",
       "      <th>50%</th>\n",
       "      <td>565.000000</td>\n",
       "      <td>864.000000</td>\n",
       "      <td>64.000000</td>\n",
       "      <td>391.000000</td>\n",
       "    </tr>\n",
       "    <tr>\n",
       "      <th>75%</th>\n",
       "      <td>576.000000</td>\n",
       "      <td>873.000000</td>\n",
       "      <td>64.000000</td>\n",
       "      <td>409.000000</td>\n",
       "    </tr>\n",
       "    <tr>\n",
       "      <th>max</th>\n",
       "      <td>3978.000000</td>\n",
       "      <td>2962.000000</td>\n",
       "      <td>1210.000000</td>\n",
       "      <td>2737.000000</td>\n",
       "    </tr>\n",
       "  </tbody>\n",
       "</table>\n",
       "</div>"
      ],
      "text/plain": [
       "            int_time       str_time    js_int_time    js_str_time\n",
       "count  100000.000000  100000.000000  100000.000000  100000.000000\n",
       "mean      571.120300     869.489630      64.815700     408.222700\n",
       "std        30.657322      20.553657       5.132066      42.584335\n",
       "min       553.000000     856.000000      62.000000     312.000000\n",
       "25%       562.000000     861.000000      64.000000     388.000000\n",
       "50%       565.000000     864.000000      64.000000     391.000000\n",
       "75%       576.000000     873.000000      64.000000     409.000000\n",
       "max      3978.000000    2962.000000    1210.000000    2737.000000"
      ]
     },
     "execution_count": 29,
     "metadata": {},
     "output_type": "execute_result"
    }
   ],
   "source": [
    "cf.describe()"
   ]
  },
  {
   "cell_type": "code",
   "execution_count": 62,
   "metadata": {},
   "outputs": [
    {
     "data": {
      "text/plain": [
       "'/System/Library/Fonts/Supplemental/Arial.ttf'"
      ]
     },
     "execution_count": 62,
     "metadata": {},
     "output_type": "execute_result"
    }
   ],
   "source": [
    "# if you want to see which fonts are accessible for you\n",
    "from matplotlib import font_manager\n",
    "font_manager.findSystemFonts(fontpaths=None, fontext=\"ttf\")\n",
    "\n"
   ]
  },
  {
   "cell_type": "code",
   "execution_count": 67,
   "metadata": {},
   "outputs": [
    {
     "data": {
      "image/png": "[encoded data removed]",
      "text/plain": [
       "<Figure size 1080x576 with 1 Axes>"
      ]
     },
     "metadata": {
      "needs_background": "light"
     },
     "output_type": "display_data"
    }
   ],
   "source": [
    "\n",
    "bins = np.linspace(0, 1000, 200) # generate 200 equal bins from 0 to 1000\n",
    "\n",
    "matplotlib.rcParams['font.family'] = \"Arial\"\n",
    "\n",
    "pyplot.style.use(\"seaborn-deep\")\n",
    "pyplot.figure(figsize=(15,8))\n",
    "pyplot.hist(cf.int_time, bins, alpha=0.9, label='Python Int Lookup')\n",
    "pyplot.hist(cf.str_time, bins, alpha=0.9, label='Python Str Lookup')\n",
    "pyplot.hist(cf.js_int_time, bins, alpha=0.9, label='JS Int Lookup')\n",
    "pyplot.hist(cf.js_str_time, bins, alpha=0.9, label='JS Str Lookup')\n",
    "pyplot.xlabel(\"Time in Micro-seconds\", fontsize=\"10\")\n",
    "\n",
    "pyplot.legend(loc='upper right')\n",
    "pyplot.show()\n"
   ]
  }
 ],
 "metadata": {
  "kernelspec": {
   "display_name": "Python 3",
   "language": "python",
   "name": "python3"
  },
  "language_info": {
   "codemirror_mode": {
    "name": "ipython",
    "version": 3
   },
   "file_extension": ".py",
   "mimetype": "text/x-python",
   "name": "python",
   "nbconvert_exporter": "python",
   "pygments_lexer": "ipython3",
   "version": "3.9.16"
  },
  "orig_nbformat": 4
 },
 "nbformat": 4,
 "nbformat_minor": 2
}
